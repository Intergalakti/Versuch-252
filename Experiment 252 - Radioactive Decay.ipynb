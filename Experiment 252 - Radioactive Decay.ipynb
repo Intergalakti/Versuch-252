{
 "cells": [
  {
   "cell_type": "code",
   "execution_count": null,
   "metadata": {},
   "outputs": [],
   "source": [
    "%matplotlib inline\n",
    "import matplotlib.pyplot as plt\n",
    "import numpy as np\n",
    "from scipy.optimize import curve_fit\n",
    "from scipy.stats import chi2\n",
    "\n",
    "unterg = np.loadtxt('data/Messung.dat', usecols=[1])\n",
    "n1 =np.loadtxt(\"data/Messung1.dat\", usecols=[1])\n",
    "n2 =np.loadtxt(\"data/Messung2.dat\", usecols=[1])\n",
    "n3 =np.loadtxt(\"data/Messung3.dat\", usecols=[1])\n",
    "n4 =np.loadtxt(\"data/Messung4.dat\", usecols=[1])"
   ]
  },
  {
   "cell_type": "code",
   "execution_count": null,
   "metadata": {},
   "outputs": [],
   "source": [
    "mittelw_unterg=np.mean(4*unterg)  #*4 since the individual results are summed over\n",
    "fehler_unterg=np.std(4*unterg)/np.sqrt(len(unterg))\n",
    "print(\"Mittelwert:\", mittelw_unterg, \"Fehler:\",fehler_unterg)\n",
    "N=n1+n2+n3+n4\n",
    "Fehler_N=np.sqrt(N)\n",
    "\n",
    "t=np.arange(5,405,10)\n",
    "plt.errorbar(t,N, Fehler_N, linestyle='None')\n",
    "plt.xlabel(Zeit / s)\n",
    "plt.ylabel('Zerfaelle')\n",
    "plt.title('Zerfall von Silber mit Untergrund')\n",
    "plt.yscale('log')"
   ]
  },
  {
   "cell_type": "code",
   "execution_count": null,
   "metadata": {},
   "outputs": [],
   "source": [
    "y_0=mittelw_unterg\n",
    "def fit_func(x, A1,l1,A2,l2):\n",
    "    return A1*np.exp(-x*l1) + A2*np.exp(-x*l2) + y_0\n",
    "popt, pcov = curve_fit(fit_func,t,N, p0=[500,0.02,50,0.001], sigma=Fehler_N)\n",
    "\n",
    "plt.errorbar(t,N, Fehler_N, linestyle=’None’)\n",
    "plt.xlabel('Zeit / s')\n",
    "plt.ylabel('Zerfaelle')\n",
    "plt.title('Zerfall von Silber mit Untergrund')\n",
    "plt.yscale('log')\n",
    "plt.plot(t,fit_func(t,*popt))\n",
    "plt.savefig('figures/Silber.pdf',format='pdf')\n",
    "\n",
    "print(\"A1=\",popt[0], \", Standardfehler=\", np.sqrt(pcov[0][0]))\n",
    "print(\"l1=\",popt[1], \", Standardfehler=\", np.sqrt(pcov[1][1]))\n",
    "print(\"A2=\",popt[2], \", Standardfehler=\", np.sqrt(pcov[2][2]))\n",
    "print(\"l2=\",popt[3], \", Standardfehler=\", np.sqrt(pcov[3][3]))\n",
    "\n",
    "chi2_=np.sum((fit_func(t,*popt)-N)**2/Fehler_N**2)\n",
    "dof=len(N)-4 #dof:degrees of freedom, Freiheitsgrad\n",
    "chi2_red=chi2_/dof\n",
    "print(\"chi2=\", chi2_)\n",
    "print(\"chi2_red=\",chi2_red)\n",
    "prob=round(1-chi2.cdf(chi2_,dof),2)*100\n",
    "print(\"Wahrscheinlichkeit=\", prob,\"%\")"
   ]
  }
 ],
 "metadata": {
  "kernelspec": {
   "display_name": "Python 3",
   "language": "python",
   "name": "python3"
  },
  "language_info": {
   "codemirror_mode": {
    "name": "ipython",
    "version": 3
   },
   "file_extension": ".py",
   "mimetype": "text/x-python",
   "name": "python",
   "nbconvert_exporter": "python",
   "pygments_lexer": "ipython3",
   "version": "3.7.0"
  }
 },
 "nbformat": 4,
 "nbformat_minor": 2
}
